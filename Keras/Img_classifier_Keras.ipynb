{
 "cells": [
  {
   "cell_type": "code",
   "execution_count": 2,
   "metadata": {},
   "outputs": [],
   "source": [
    "import numpy as np\n",
    "import pandas as pd\n",
    "import cv2\n",
    "from random import shuffle\n",
    "import os"
   ]
  },
  {
   "cell_type": "code",
   "execution_count": 3,
   "metadata": {},
   "outputs": [],
   "source": [
    "TRAIN_DIR = \"C:/Users/Chenge/Documents/python/all/train/train\"\n",
    "TEST_DIR = \"C:/Users/Chenge/Documents/python/all/test1/test1\"\n",
    "\n",
    "#Parameters\n",
    "img_shape = 64"
   ]
  },
  {
   "cell_type": "code",
   "execution_count": 4,
   "metadata": {},
   "outputs": [],
   "source": [
    "def classification(img):\n",
    "    name = img\n",
    "    if 'cat' in name:\n",
    "        category = [1,0]\n",
    "    elif 'dog' in name:\n",
    "        category = [0,1]\n",
    "    return category\n",
    "\n",
    "def training_images_classification():\n",
    "    training_images = []\n",
    "    \n",
    "    for i in os.listdir(TRAIN_DIR):\n",
    "        path = os.path.join(TRAIN_DIR,i)\n",
    "        img = cv2.imread(path, cv2.IMREAD_GRAYSCALE)\n",
    "        img = cv2.resize(img, (img_shape,img_shape))\n",
    "        training_images.append([np.array(img), classification(i)])\n",
    "        \n",
    "    shuffle(training_images)\n",
    "    \n",
    "    return training_images\n",
    "\n"
   ]
  },
  {
   "cell_type": "code",
   "execution_count": 5,
   "metadata": {},
   "outputs": [],
   "source": [
    "training_images = training_images_classification()\n"
   ]
  },
  {
   "cell_type": "code",
   "execution_count": 6,
   "metadata": {},
   "outputs": [],
   "source": [
    "img_data = np.array([i[0] for i in training_images]).reshape([-1,64,64,1])\n",
    "img_label = np.array([i[1] for i in training_images])"
   ]
  },
  {
   "cell_type": "code",
   "execution_count": 7,
   "metadata": {},
   "outputs": [
    {
     "name": "stderr",
     "output_type": "stream",
     "text": [
      "Using TensorFlow backend.\n"
     ]
    }
   ],
   "source": [
    "from keras.models import Sequential\n",
    "from keras.layers import *\n",
    "from keras.optimizers import *\n",
    "import keras.backend as K"
   ]
  },
  {
   "cell_type": "code",
   "execution_count": 8,
   "metadata": {},
   "outputs": [],
   "source": [
    "K.clear_session()\n",
    "model = Sequential()"
   ]
  },
  {
   "cell_type": "code",
   "execution_count": 9,
   "metadata": {},
   "outputs": [],
   "source": [
    "model.add(InputLayer(input_shape=[64,64,1]))\n",
    "model.add(Conv2D(filters=45,kernel_size=7,strides=1,activation='relu'))\n",
    "#Filters: The number of outputs in the conv #Move 1 (stride) and the space you are going to take is 7x7\n",
    "model.add(MaxPool2D(pool_size=7, padding='same')) #Get max value every 5x5  move just 1 (stride)"
   ]
  },
  {
   "cell_type": "code",
   "execution_count": 10,
   "metadata": {},
   "outputs": [],
   "source": [
    "model.add(Conv2D(filters=64,kernel_size=5,strides=1,activation='relu'))\n",
    "#Filters: The number of outputs in the conv #Move 1 (stride) and the space you are going to take is 7x7\n",
    "model.add(MaxPool2D(pool_size=7, padding='same')) #Get max value every 5x5  move just 1 (stride)"
   ]
  },
  {
   "cell_type": "code",
   "execution_count": 11,
   "metadata": {},
   "outputs": [],
   "source": [
    "model.add(Flatten())"
   ]
  },
  {
   "cell_type": "code",
   "execution_count": 12,
   "metadata": {},
   "outputs": [],
   "source": [
    "model.add(Dense(512, activation='relu'))\n",
    "model.add(Dropout(0.2))\n",
    "model.add(Dense(128, activation='relu'))\n",
    "model.add(Dropout(0.2))\n",
    "model.add(Dense(2, activation='softmax'))"
   ]
  },
  {
   "cell_type": "code",
   "execution_count": 13,
   "metadata": {},
   "outputs": [],
   "source": [
    "model.compile(optimizer=Adam(lr=1e-4, decay=1e-6),loss='categorical_crossentropy',metrics=['accuracy'])"
   ]
  },
  {
   "cell_type": "code",
   "execution_count": 14,
   "metadata": {
    "scrolled": true
   },
   "outputs": [
    {
     "name": "stdout",
     "output_type": "stream",
     "text": [
      "Train on 21250 samples, validate on 3750 samples\n",
      "Epoch 1/25\n",
      "21250/21250 [==============================] - 81s - loss: 0.8064 - acc: 0.5648 - val_loss: 0.6667 - val_acc: 0.5984\n",
      "Epoch 2/25\n",
      "21250/21250 [==============================] - 82s - loss: 0.6582 - acc: 0.6102 - val_loss: 0.6412 - val_acc: 0.6304\n",
      "Epoch 3/25\n",
      "21250/21250 [==============================] - 81s - loss: 0.6342 - acc: 0.6420 - val_loss: 0.6268 - val_acc: 0.6605\n",
      "Epoch 4/25\n",
      "21250/21250 [==============================] - 81s - loss: 0.6077 - acc: 0.6706 - val_loss: 0.6115 - val_acc: 0.6680\n",
      "Epoch 5/25\n",
      "21250/21250 [==============================] - 82s - loss: 0.5793 - acc: 0.6912 - val_loss: 0.5922 - val_acc: 0.6853\n",
      "Epoch 6/25\n",
      "21250/21250 [==============================] - 82s - loss: 0.5543 - acc: 0.7163 - val_loss: 0.5609 - val_acc: 0.7083\n",
      "Epoch 7/25\n",
      "21250/21250 [==============================] - 81s - loss: 0.5313 - acc: 0.7318 - val_loss: 0.5535 - val_acc: 0.7176\n",
      "Epoch 8/25\n",
      "21250/21250 [==============================] - 82s - loss: 0.5078 - acc: 0.7504 - val_loss: 0.5365 - val_acc: 0.7328\n",
      "Epoch 9/25\n",
      "21250/21250 [==============================] - 82s - loss: 0.4873 - acc: 0.7635 - val_loss: 0.5409 - val_acc: 0.7256\n",
      "Epoch 10/25\n",
      "21250/21250 [==============================] - 83s - loss: 0.4685 - acc: 0.7752 - val_loss: 0.5317 - val_acc: 0.7453\n",
      "Epoch 11/25\n",
      "21250/21250 [==============================] - 83s - loss: 0.4484 - acc: 0.7856 - val_loss: 0.5200 - val_acc: 0.7427\n",
      "Epoch 12/25\n",
      "21250/21250 [==============================] - 83s - loss: 0.4288 - acc: 0.8000 - val_loss: 0.5187 - val_acc: 0.7613\n",
      "Epoch 13/25\n",
      "21250/21250 [==============================] - 84s - loss: 0.4168 - acc: 0.8078 - val_loss: 0.5332 - val_acc: 0.7485\n",
      "Epoch 14/25\n",
      "21250/21250 [==============================] - 84s - loss: 0.4052 - acc: 0.8142 - val_loss: 0.5125 - val_acc: 0.7621\n",
      "Epoch 15/25\n",
      "21250/21250 [==============================] - 84s - loss: 0.3829 - acc: 0.8231 - val_loss: 0.5174 - val_acc: 0.7608\n",
      "Epoch 16/25\n",
      "21250/21250 [==============================] - 83s - loss: 0.3702 - acc: 0.8321 - val_loss: 0.5145 - val_acc: 0.7637\n",
      "Epoch 17/25\n",
      "21250/21250 [==============================] - 83s - loss: 0.3523 - acc: 0.8411 - val_loss: 0.5442 - val_acc: 0.7568\n",
      "Epoch 18/25\n",
      "21250/21250 [==============================] - 83s - loss: 0.3354 - acc: 0.8489 - val_loss: 0.5355 - val_acc: 0.7661\n",
      "Epoch 19/25\n",
      "21250/21250 [==============================] - 83s - loss: 0.3242 - acc: 0.8554 - val_loss: 0.5953 - val_acc: 0.7669\n",
      "Epoch 20/25\n",
      "21250/21250 [==============================] - 83s - loss: 0.3079 - acc: 0.8619 - val_loss: 0.5716 - val_acc: 0.7712\n",
      "Epoch 21/25\n",
      "21250/21250 [==============================] - 83s - loss: 0.2927 - acc: 0.8703 - val_loss: 0.5874 - val_acc: 0.7720\n",
      "Epoch 22/25\n",
      "21250/21250 [==============================] - 83s - loss: 0.2828 - acc: 0.8780 - val_loss: 0.6094 - val_acc: 0.7656\n",
      "Epoch 23/25\n",
      "21250/21250 [==============================] - 83s - loss: 0.2646 - acc: 0.8884 - val_loss: 0.6830 - val_acc: 0.7581\n",
      "Epoch 24/25\n",
      "21250/21250 [==============================] - 83s - loss: 0.2517 - acc: 0.8928 - val_loss: 0.6443 - val_acc: 0.7688\n",
      "Epoch 25/25\n",
      "21250/21250 [==============================] - 83s - loss: 0.2347 - acc: 0.9006 - val_loss: 0.6512 - val_acc: 0.7752\n"
     ]
    },
    {
     "data": {
      "text/plain": [
       "<keras.callbacks.History at 0x273d2cbc908>"
      ]
     },
     "execution_count": 14,
     "metadata": {},
     "output_type": "execute_result"
    }
   ],
   "source": [
    "model.fit(x=img_data, y=img_label,batch_size=32,epochs=25,validation_split=0.15)"
   ]
  },
  {
   "cell_type": "code",
   "execution_count": 15,
   "metadata": {},
   "outputs": [],
   "source": [
    "from keras.models import load_model\n",
    "\n",
    "model.save('my_model.h5')  # creates a HDF5 file 'my_model.h5'\n",
    "model = load_model('my_model.h5')\n"
   ]
  },
  {
   "cell_type": "code",
   "execution_count": 16,
   "metadata": {},
   "outputs": [],
   "source": [
    "from random import randint\n",
    "test_images = []\n",
    "for i in os.listdir(TEST_DIR):\n",
    "    test_images.append(i)\n",
    "\n",
    "num = randint(0, len(test_images)-1)\n",
    "path = os.path.join(TEST_DIR, test_images[num])\n",
    "img = cv2.imread(path, cv2.IMREAD_GRAYSCALE)\n",
    "img = cv2.resize(img, (64,64))    \n",
    "data = img.reshape(1,64,64,1)\n",
    "predict = model.predict([data])"
   ]
  },
  {
   "cell_type": "code",
   "execution_count": 17,
   "metadata": {},
   "outputs": [
    {
     "data": {
      "image/jpeg": "[encoded data removed]",
      "text/plain": [
       "<IPython.core.display.Image object>"
      ]
     },
     "execution_count": 17,
     "metadata": {},
     "output_type": "execute_result"
    }
   ],
   "source": [
    "from IPython.display import Image\n",
    "Image(filename=path) "
   ]
  },
  {
   "cell_type": "code",
   "execution_count": 18,
   "metadata": {},
   "outputs": [
    {
     "name": "stdout",
     "output_type": "stream",
     "text": [
      "Dog\n"
     ]
    }
   ],
   "source": [
    "if np.argmax(predict) == 1:\n",
    "    print(\"Dog\")\n",
    "else:\n",
    "    print(\"Cat\")"
   ]
  }
 ],
 "metadata": {
  "kernelspec": {
   "display_name": "Python 3",
   "language": "python",
   "name": "python3"
  },
  "language_info": {
   "codemirror_mode": {
    "name": "ipython",
    "version": 3
   },
   "file_extension": ".py",
   "mimetype": "text/x-python",
   "name": "python",
   "nbconvert_exporter": "python",
   "pygments_lexer": "ipython3",
   "version": "3.5.4"
  }
 },
 "nbformat": 4,
 "nbformat_minor": 2
}
