{
 "cells": [
  {
   "cell_type": "code",
   "execution_count": 1,
   "metadata": {},
   "outputs": [],
   "source": [
    "import numpy as np\n",
    "import tensorflow as tf\n",
    "from random import shuffle\n",
    "import cv2\n",
    "import os"
   ]
  },
  {
   "cell_type": "code",
   "execution_count": 2,
   "metadata": {},
   "outputs": [],
   "source": [
    "TRAIN_DIR = \"C:/Users/Chenge/Documents/python/all/train/train\"\n",
    "TEST_DIR = \"C:/Users/Chenge/Documents/python/all/test1/test1\"\n",
    "TEST_DIR2 = \"C:/Users/Chenge/Documents/python/all/test1/test\"\n",
    "\n",
    "img_shape = 64 #Tamaño de imagen\n"
   ]
  },
  {
   "cell_type": "code",
   "execution_count": 3,
   "metadata": {},
   "outputs": [],
   "source": [
    "def classificaction(img):\n",
    "    if 'cat' in img:\n",
    "        category = np.array([1,0])\n",
    "    elif 'dog' in img:\n",
    "        category = np.array([0,1])\n",
    "    return category\n",
    "\n",
    "def train_images_class():\n",
    "    train_images = []\n",
    "    \n",
    "    for file in os.listdir(TRAIN_DIR):\n",
    "        path = os.path.join(TRAIN_DIR,file)\n",
    "        img = cv2.imread(path, cv2.IMREAD_GRAYSCALE)\n",
    "        img = cv2.resize(img, (img_shape,img_shape))\n",
    "        \n",
    "        train_images.append([np.array(img), classificaction(file)])\n",
    "    shuffle(train_images)\n",
    "    \n",
    "    return train_images\n",
    "\n",
    "\n",
    "def validation_split(t):\n",
    "    shuffle(t)\n",
    "    total = len(t)\n",
    "    valor = total * 0.20\n",
    "    validation_split = t[-int(valor):]\n",
    "    v = len(validation_split)\n",
    "    while v !=0:\n",
    "        t.pop(total-1)\n",
    "        total = total-1\n",
    "        v = v-1\n",
    "    return t, validation_split"
   ]
  },
  {
   "cell_type": "code",
   "execution_count": 4,
   "metadata": {},
   "outputs": [],
   "source": [
    "train_images = train_images_class()"
   ]
  },
  {
   "cell_type": "code",
   "execution_count": 6,
   "metadata": {},
   "outputs": [],
   "source": [
    "img_array = img_shape * img_shape"
   ]
  },
  {
   "cell_type": "code",
   "execution_count": 7,
   "metadata": {},
   "outputs": [],
   "source": [
    "#Párameters\n",
    "\n",
    "learning_rate = 0.001\n",
    "num_classes = 2\n",
    "num_inputs = img_array\n",
    "dropout = 0.2\n",
    "batch_size = 64\n",
    "\n",
    "x = tf.placeholder(tf.float32, shape=[None,num_inputs]) #(None,4096)\n",
    "y = tf.placeholder(tf.float32, shape=[None,num_classes]) #None, 2 Dog or Cat\n",
    "keep_prob = tf.placeholder(tf.float32)"
   ]
  },
  {
   "cell_type": "code",
   "execution_count": 8,
   "metadata": {},
   "outputs": [],
   "source": [
    "def conv2d(x,weight,bias,strides = 1):\n",
    "    x = tf.nn.conv2d(x,weight,strides=[1,strides,strides,1],padding=\"SAME\") \n",
    "    #X Input, Weight= filter,#strides of sliding window padding = The type of padding algorithm to use\n",
    "    x = tf.nn.bias_add(x,bias)\n",
    "    return tf.nn.relu(x)\n",
    "\n",
    "def maxpool2d(x,k = 2,stride=2):\n",
    "    return tf.nn.max_pool(x,ksize=[1,k,k,1], strides = [1,stride,stride,1], padding=\"SAME\")\n"
   ]
  },
  {
   "cell_type": "code",
   "execution_count": 9,
   "metadata": {},
   "outputs": [],
   "source": [
    "def convolutional_net(x,weight,biases,dropout):\n",
    "    x = tf.reshape(x,shape=[-1,64,64,1])\n",
    "    \n",
    "    conv1 = conv2d(x,weight['conv1'],biases['b1'])\n",
    "    conv1 = maxpool2d(conv1,k=2)\n",
    "    \n",
    "    \n",
    "    conv2 = conv2d(conv1,weight['conv2'],biases['b2'])\n",
    "    conv2 = maxpool2d(conv2, k=2)\n",
    "    \n",
    "    \n",
    "    #Fully conection\n",
    "    fc1 = tf.reshape(conv2, [-1, weights['fc1'].get_shape().as_list()[0]])\n",
    "    #print(fc1.shape)#This value must be the same or a multiple of fc1 \n",
    "    #fc1 = tf.add(tf.matmul(fc1,weights['fc1']),biases['bc1'])\n",
    "    #fc1  = tf.nn.relu(fc1)\n",
    "    #fc1 = tf.nn.dropout(fc1,dropout)\n",
    "    \n",
    "    dense1 = tf.layers.dense(inputs=fc1, units=512, activation=tf.nn.relu)\n",
    "    dropout_layer1 = tf.layers.dropout(inputs=dense1, rate=dropout)\n",
    "    dense2 = tf.layers.dense(inputs=dropout_layer1, units=128, activation=tf.nn.relu)\n",
    "    dropout_layer2 = tf.layers.dropout(inputs=dense2, rate=dropout)\n",
    "    dense3 = tf.layers.dense(inputs=dropout_layer2, units=2)\n",
    "    \n",
    "    \n",
    "    #out = tf.add(tf.matmul(dropout_layer2, weights['out']), biases['out'])\n",
    "    return dense3"
   ]
  },
  {
   "cell_type": "code",
   "execution_count": 10,
   "metadata": {},
   "outputs": [],
   "source": [
    "weights = {\n",
    "    'conv1': tf.Variable(tf.random_normal([5, 5, 1,30])),\n",
    "    'conv2': tf.Variable(tf.random_normal([5, 5, 30,64])),\n",
    "    'fc1': tf.Variable(tf.random_normal([16*16*64, 512])),\n",
    "    'out': tf.Variable(tf.random_normal([64, num_classes]))\n",
    "}\n",
    "\n",
    "biases = {\n",
    "    'b1': tf.Variable(tf.random_normal([30])),\n",
    "    'b2': tf.Variable(tf.random_normal([64])),\n",
    "    'bc1': tf.Variable(tf.random_normal([512])),\n",
    "    'out': tf.Variable(tf.random_normal([num_classes]))\n",
    "}"
   ]
  },
  {
   "cell_type": "code",
   "execution_count": 11,
   "metadata": {},
   "outputs": [],
   "source": [
    "pred = convolutional_net(x,weights,biases,dropout)\n",
    "\n",
    "cost = tf.reduce_mean(tf.nn.softmax_cross_entropy_with_logits(logits=pred, labels=y))\n",
    "optimizer = tf.train.AdamOptimizer(learning_rate=learning_rate).minimize(cost)"
   ]
  },
  {
   "cell_type": "code",
   "execution_count": 12,
   "metadata": {},
   "outputs": [],
   "source": [
    "# Evaluate model\n",
    "correct_pred = tf.equal(tf.argmax(pred, 1), tf.argmax(y, 1)) #Get max argument in both values and check if it is the same\n",
    "accuracy = tf.reduce_mean(tf.cast(correct_pred, tf.float32)) #Change type to float32"
   ]
  },
  {
   "cell_type": "code",
   "execution_count": 15,
   "metadata": {
    "scrolled": true
   },
   "outputs": [
    {
     "name": "stdout",
     "output_type": "stream",
     "text": [
      "Iter 20000, Minibatch Loss= 206.806335, Training Accuracy= 0.45312\n",
      "Validating Training Accuracy= 0.49000\n",
      "Fin del epoch 1\n",
      "Iter 20000, Minibatch Loss= 1.178942, Training Accuracy= 0.59375\n",
      "Validating Training Accuracy= 0.53000\n",
      "Fin del epoch 2\n",
      "Iter 20000, Minibatch Loss= 0.831731, Training Accuracy= 0.68750\n",
      "Validating Training Accuracy= 0.62000\n",
      "Fin del epoch 3\n",
      "Iter 20000, Minibatch Loss= 0.821344, Training Accuracy= 0.60938\n",
      "Validating Training Accuracy= 0.53000\n",
      "Fin del epoch 4\n",
      "Iter 20000, Minibatch Loss= 0.427333, Training Accuracy= 0.79688\n",
      "Validating Training Accuracy= 0.68000\n",
      "Fin del epoch 5\n",
      "Iter 20000, Minibatch Loss= 3.125961, Training Accuracy= 0.56250\n",
      "Validating Training Accuracy= 0.51000\n",
      "Fin del epoch 6\n",
      "Iter 20000, Minibatch Loss= 0.465133, Training Accuracy= 0.78125\n",
      "Validating Training Accuracy= 0.59000\n",
      "Fin del epoch 7\n",
      "Iter 20000, Minibatch Loss= 0.748876, Training Accuracy= 0.62500\n",
      "Validating Training Accuracy= 0.58000\n",
      "Fin del epoch 8\n",
      "Iter 20000, Minibatch Loss= 0.532542, Training Accuracy= 0.71875\n",
      "Validating Training Accuracy= 0.59000\n",
      "Fin del epoch 9\n",
      "Iter 20000, Minibatch Loss= 0.509823, Training Accuracy= 0.78125\n",
      "Validating Training Accuracy= 0.59000\n",
      "Fin del epoch 10\n",
      "Iter 20000, Minibatch Loss= 0.675294, Training Accuracy= 0.67188\n",
      "Validating Training Accuracy= 0.56000\n",
      "Fin del epoch 11\n",
      "Iter 20000, Minibatch Loss= 0.165546, Training Accuracy= 0.93750\n",
      "Validating Training Accuracy= 0.63000\n",
      "Fin del epoch 12\n",
      "Iter 20000, Minibatch Loss= 0.166205, Training Accuracy= 0.93750\n",
      "Validating Training Accuracy= 0.67000\n",
      "Fin del epoch 13\n",
      "Iter 20000, Minibatch Loss= 1.557242, Training Accuracy= 0.53125\n",
      "Validating Training Accuracy= 0.53000\n",
      "Fin del epoch 14\n",
      "Iter 20000, Minibatch Loss= 0.203821, Training Accuracy= 0.90625\n",
      "Validating Training Accuracy= 0.64000\n",
      "Fin del epoch 15\n",
      "Iter 20000, Minibatch Loss= 1.331509, Training Accuracy= 0.64062\n",
      "Validating Training Accuracy= 0.61000\n",
      "Fin del epoch 16\n",
      "Iter 20000, Minibatch Loss= 0.196398, Training Accuracy= 0.90625\n",
      "Validating Training Accuracy= 0.69000\n",
      "Fin del epoch 17\n",
      "Iter 20000, Minibatch Loss= 0.133407, Training Accuracy= 0.95312\n",
      "Validating Training Accuracy= 0.66000\n",
      "Fin del epoch 18\n",
      "Iter 20000, Minibatch Loss= 0.064370, Training Accuracy= 1.00000\n",
      "Validating Training Accuracy= 0.63000\n",
      "Fin del epoch 19\n",
      "Iter 20000, Minibatch Loss= 0.166437, Training Accuracy= 0.95312\n",
      "Validating Training Accuracy= 0.59000\n",
      "Fin del epoch 20\n",
      "Iter 20000, Minibatch Loss= 0.886943, Training Accuracy= 0.71875\n",
      "Validating Training Accuracy= 0.61000\n",
      "Fin del epoch 21\n",
      "Iter 20000, Minibatch Loss= 0.153227, Training Accuracy= 0.93750\n",
      "Validating Training Accuracy= 0.61000\n",
      "Fin del epoch 22\n",
      "Iter 20000, Minibatch Loss= 0.620961, Training Accuracy= 0.78125\n",
      "Validating Training Accuracy= 0.56000\n",
      "Fin del epoch 23\n",
      "Iter 20000, Minibatch Loss= 0.012714, Training Accuracy= 1.00000\n",
      "Validating Training Accuracy= 0.68000\n",
      "Fin del epoch 24\n",
      "Iter 20000, Minibatch Loss= 0.006524, Training Accuracy= 1.00000\n",
      "Validating Training Accuracy= 0.66000\n",
      "Fin del epoch 25\n",
      "Optimization Finished!\n"
     ]
    }
   ],
   "source": [
    "init = tf.global_variables_initializer()\n",
    "saver = tf.train.Saver()\n",
    "with tf.Session() as sess:\n",
    "    sess.run(init)\n",
    "    epochs = 25 \n",
    "    train_size = 20000\n",
    "\n",
    "    batch_inicial = 0\n",
    "    i = 0\n",
    "    \n",
    "    \n",
    "    img_data = np.array([i[0] for i in train_images2])\n",
    "    img_data = np.array([i[0] for i in train_images2]).reshape(len(img_data),img_array)/255\n",
    "    img_label = np.array([i[1] for i in train_images2])\n",
    "    \n",
    "    img_data2 = np.array([i[0] for i in val_split])\n",
    "    img_data2 = np.array([i[0] for i in val_split]).reshape(len(img_data2),img_array)/255\n",
    "    img_label2 = np.array([i[1] for i in val_split])\n",
    "    \n",
    "    while i < epochs:\n",
    "        step = 1\n",
    "        batch_performed = step * batch_size\n",
    "        shuffle(train_images2)\n",
    "\n",
    "        shuffle(val_split)\n",
    "        \n",
    "        batch_x2 = img_data2[:100]\n",
    "        batch_y2 = img_label2[:100]\n",
    "        \n",
    "        # Keep training until reach max iterations\n",
    "        while batch_performed < train_size:\n",
    "            \n",
    "            if batch_performed + batch_size < train_size:\n",
    "\n",
    "                batch_inicial = (step-1) * batch_size\n",
    "                batch_performed = step * batch_size\n",
    "                \n",
    "                batch_x = img_data[batch_inicial:batch_performed]\n",
    "                batch_y = img_label[batch_inicial:batch_performed]\n",
    "                \n",
    "\n",
    "                # Run optimization op (backprop)\n",
    "                sess.run(optimizer, feed_dict={x: batch_x, y: batch_y})\n",
    "\n",
    "            else:\n",
    "                break\n",
    "                \n",
    "            step += 1\n",
    "                \n",
    "\n",
    "        batch_x = img_data[-batch_size:]\n",
    "        batch_y = img_label[-batch_size:]\n",
    "                \n",
    "        loss, acc = sess.run([cost, accuracy], feed_dict={x: batch_x,y: batch_y,keep_prob: 1.})\n",
    "        print(\"Iter 20000, Minibatch Loss= \" + \\\n",
    "                \"{:.6f}\".format(loss) + \", Training Accuracy= \" + \\\n",
    "                \"{:.5f}\".format(acc))\n",
    "\n",
    "        acc2 = sess.run(accuracy, feed_dict={x: batch_x2,y: batch_y2,keep_prob: 1.})\n",
    "        print(\"Validating Training Accuracy= \" + \"{:.5f}\".format(acc2))\n",
    "        saver.save(sess, \"./model2.ckpt\")\n",
    "        \n",
    "        i = i +1\n",
    "\n",
    "        print(\"Fin del epoch \"+ str(i))\n",
    "            \n",
    "\n",
    "            \n",
    "\n",
    "    print(\"Optimization Finished!\")"
   ]
  },
  {
   "cell_type": "code",
   "execution_count": 16,
   "metadata": {},
   "outputs": [
    {
     "name": "stdout",
     "output_type": "stream",
     "text": [
      "INFO:tensorflow:Restoring parameters from ./model2.ckpt\n",
      "Testing Accuracy: 0.7\n"
     ]
    }
   ],
   "source": [
    "init = tf.global_variables_initializer()\n",
    "new_saver = tf.train.import_meta_graph('./model2.ckpt.meta')\n",
    "shuffle(test_images)\n",
    "with tf.Session() as sess:\n",
    "    sess.run(init)\n",
    "    new_saver.restore(sess, './model2.ckpt')\n",
    "    shuffle(val_split)\n",
    "    img_data = np.array([i[0] for i in val_split])\n",
    "    img_data = np.array([i[0] for i in val_split]).reshape(len(img_data),img_array)/255\n",
    "    img_label = np.array([i[1] for i in val_split])\n",
    "    \n",
    "    batch_x = img_data[:10]\n",
    "    batch_y = img_label[:10]\n",
    "    \n",
    "    print(\"Testing Accuracy:\", \\\n",
    "        sess.run(accuracy, feed_dict={x: batch_x,\n",
    "                                      y: batch_y,\n",
    "                                      keep_prob: 1.}))"
   ]
  },
  {
   "cell_type": "code",
   "execution_count": 21,
   "metadata": {},
   "outputs": [
    {
     "name": "stdout",
     "output_type": "stream",
     "text": [
      "(64, 64)\n",
      "(1, 4096)\n"
     ]
    }
   ],
   "source": [
    "from random import randint\n",
    "test_images = []\n",
    "for i in os.listdir(TEST_DIR):\n",
    "    test_images.append(i)\n",
    "\n",
    "num = randint(0, len(test_images)-1)\n",
    "path = os.path.join(TEST_DIR, test_images[num])\n",
    "img = cv2.imread(path, cv2.IMREAD_GRAYSCALE)\n",
    "img = cv2.resize(img, (64,64))\n",
    "test_image = np.array(img)\n",
    "\n",
    "print(test_image.shape)\n",
    "test_image= test_image.reshape(1,img_array)/255\n",
    "print(test_image.shape)"
   ]
  },
  {
   "cell_type": "code",
   "execution_count": 22,
   "metadata": {},
   "outputs": [
    {
     "name": "stdout",
     "output_type": "stream",
     "text": [
      "INFO:tensorflow:Restoring parameters from ./model2.ckpt\n",
      "[[-4.78700066  5.79055071]]\n"
     ]
    }
   ],
   "source": [
    "init = tf.global_variables_initializer()\n",
    "new_saver = tf.train.import_meta_graph('./model2.ckpt.meta')\n",
    "with tf.Session() as sess:\n",
    "    sess.run(init)\n",
    "    new_saver.restore(sess, './model2.ckpt')\n",
    "    classification = sess.run(pred, feed_dict={x:test_image})\n",
    "    print(classification)"
   ]
  },
  {
   "cell_type": "code",
   "execution_count": 23,
   "metadata": {},
   "outputs": [
    {
     "data": {
      "image/jpeg": "[encoded data removed]",
      "text/plain": [
       "<IPython.core.display.Image object>"
      ]
     },
     "execution_count": 23,
     "metadata": {},
     "output_type": "execute_result"
    }
   ],
   "source": [
    "from IPython.display import Image\n",
    "Image(filename=path)"
   ]
  },
  {
   "cell_type": "code",
   "execution_count": 24,
   "metadata": {},
   "outputs": [
    {
     "name": "stdout",
     "output_type": "stream",
     "text": [
      "Dog\n"
     ]
    }
   ],
   "source": [
    "if np.argmax(classification) == 1:\n",
    "    print(\"Dog\")\n",
    "else:\n",
    "    print(\"Cat\")"
   ]
  }
 ],
 "metadata": {
  "kernelspec": {
   "display_name": "Python 3",
   "language": "python",
   "name": "python3"
  },
  "language_info": {
   "codemirror_mode": {
    "name": "ipython",
    "version": 3
   },
   "file_extension": ".py",
   "mimetype": "text/x-python",
   "name": "python",
   "nbconvert_exporter": "python",
   "pygments_lexer": "ipython3",
   "version": "3.5.4"
  }
 },
 "nbformat": 4,
 "nbformat_minor": 2
}
